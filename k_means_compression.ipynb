{
 "cells": [
  {
   "cell_type": "code",
   "execution_count": 32,
   "metadata": {},
   "outputs": [],
   "source": [
    "import os\n",
    "import sys\n",
    "\n",
    "from PIL import Image\n",
    "import numpy as np"
   ]
  },
  {
   "attachments": {},
   "cell_type": "markdown",
   "metadata": {},
   "source": [
    "Image Compression in Python using K-Means\n",
    "https://rickwierenga.com/blog/machine%20learning/image-compressor-in-Python.html"
   ]
  },
  {
   "cell_type": "code",
   "execution_count": 33,
   "metadata": {},
   "outputs": [],
   "source": [
    "# IMAGE ADDRESS\n",
    "TEST_IMAGE1 = \"test_image1.jpg\"\n",
    "TEST_IMAGE2 = \"test_image2.jpg\"\n",
    "TEST_IMAGE3 = \"test_image3.jpg\"\n",
    "TEST_IMAGE4 = \"test_image4.jpg\"\n",
    "TEST_IMAGE5 = \"test_image5.jpg\""
   ]
  },
  {
   "attachments": {},
   "cell_type": "markdown",
   "metadata": {},
   "source": [
    "Helper functions for K-means"
   ]
  },
  {
   "cell_type": "code",
   "execution_count": 34,
   "metadata": {},
   "outputs": [],
   "source": [
    "def initialize_K_centroids(X, K):\n",
    "    \"\"\" Choose K points from X at random \"\"\"\n",
    "    m = len(X)\n",
    "\n",
    "    # random sampling without replacement from X to form K centroids initially (randomly chosen)\n",
    "    return X[np.random.choice(m, K, replace=False), :]"
   ]
  },
  {
   "cell_type": "code",
   "execution_count": 35,
   "metadata": {},
   "outputs": [],
   "source": [
    "def find_closest_centroids(X, centroids):\n",
    "    m = len(X)\n",
    "\n",
    "    c = np.zeros(m)\n",
    "    for i in range(m):\n",
    "        # find distances\n",
    "        distances = np.linalg.norm(X[i] - centroids, axis=1)\n",
    "\n",
    "        # assign closest cluster to c[i]\n",
    "        c[i] = np.argmin(distances)\n",
    "\n",
    "    # list of the INDEX closest to an element in X\n",
    "    return c"
   ]
  },
  {
   "cell_type": "code",
   "execution_count": 36,
   "metadata": {},
   "outputs": [],
   "source": [
    "def compute_means(X, idx, K):\n",
    "    _, n = X.shape\n",
    "    centroids = np.zeros((K, n))\n",
    "\n",
    "    # go through all clusters / centroids\n",
    "    for k in range(K):\n",
    "        examples = X[np.where(idx == k)]\n",
    "\n",
    "        # compute mean for each centroid\n",
    "        mean = [np.mean(column) for column in examples.T]\n",
    "        centroids[k] = mean\n",
    "    return centroids"
   ]
  },
  {
   "cell_type": "code",
   "execution_count": 37,
   "metadata": {},
   "outputs": [],
   "source": [
    "def find_k_means(X, K, max_iters=10):\n",
    "    # initialise centroids\n",
    "    centroids = initialize_K_centroids(X, K)\n",
    "\n",
    "    # keep track of state of all centroids\n",
    "    previous_centroids = centroids\n",
    "\n",
    "    # run to max number of re-clustering\n",
    "    for _ in range(max_iters):\n",
    "        idx = find_closest_centroids(X, centroids)\n",
    "        centroids = compute_means(X, idx, K)\n",
    "\n",
    "        # if repeating centroids, we stop\n",
    "        if (centroids == previous_centroids).all():\n",
    "            # the centroids aren't moving anymore.\n",
    "            return centroids\n",
    "        \n",
    "        else:\n",
    "            previous_centroids = centroids\n",
    "\n",
    "    return centroids, idx"
   ]
  },
  {
   "attachments": {},
   "cell_type": "markdown",
   "metadata": {},
   "source": [
    "Loading and modifying image"
   ]
  },
  {
   "cell_type": "code",
   "execution_count": 38,
   "metadata": {},
   "outputs": [],
   "source": [
    "def load_image(path):\n",
    "    \"\"\" Load image from path. Return a numpy array \"\"\"\n",
    "    image = Image.open(path)\n",
    "\n",
    "    # scale pixels to between 0 and 1\n",
    "    return np.asarray(image) / 255"
   ]
  },
  {
   "cell_type": "code",
   "execution_count": 39,
   "metadata": {},
   "outputs": [
    {
     "name": "stdout",
     "output_type": "stream",
     "text": [
      "Image found with width: 183, height: 275, depth: 3\n"
     ]
    }
   ],
   "source": [
    "IMAGE_TO_USE = TEST_IMAGE5\n",
    "image = load_image(IMAGE_TO_USE)\n",
    "w, h, d = image.shape\n",
    "print('Image found with width: {}, height: {}, depth: {}'.format(w, h, d))"
   ]
  },
  {
   "cell_type": "code",
   "execution_count": 40,
   "metadata": {},
   "outputs": [],
   "source": [
    "# reshape the grid into a linear scale, as each pixel simply represents a colour\n",
    "X = image.reshape((w * h, d))\n",
    "\n",
    "# number of colours desired in output image - large enough for colour\n",
    "K = 5"
   ]
  },
  {
   "cell_type": "code",
   "execution_count": 41,
   "metadata": {},
   "outputs": [],
   "source": [
    "colors, _ = find_k_means(X, K, max_iters=20)"
   ]
  },
  {
   "cell_type": "code",
   "execution_count": null,
   "metadata": {},
   "outputs": [],
   "source": [
    "# the find_kmeans() function returns array that is ONE ITERATION behind\n",
    "idx = find_closest_centroids(X, colors)"
   ]
  },
  {
   "cell_type": "code",
   "execution_count": null,
   "metadata": {},
   "outputs": [],
   "source": [
    "# convert colours to uint8 array\n",
    "idx = np.array(idx, dtype=np.uint8)\n",
    "\n",
    "# reshaping back to original dimensions\n",
    "X_reconstructed = np.array(colors[idx, :] * 255, dtype=np.uint8).reshape((w, h, d))\n",
    "compressed_image = Image.fromarray(X_reconstructed)"
   ]
  },
  {
   "cell_type": "code",
   "execution_count": null,
   "metadata": {},
   "outputs": [],
   "source": [
    "compressed_image.save(\"test_image_output1.jpg\")"
   ]
  },
  {
   "cell_type": "code",
   "execution_count": null,
   "metadata": {},
   "outputs": [],
   "source": [
    "compressed_image.show()"
   ]
  }
 ],
 "metadata": {
  "kernelspec": {
   "display_name": "Python 3",
   "language": "python",
   "name": "python3"
  },
  "language_info": {
   "codemirror_mode": {
    "name": "ipython",
    "version": 3
   },
   "file_extension": ".py",
   "mimetype": "text/x-python",
   "name": "python",
   "nbconvert_exporter": "python",
   "pygments_lexer": "ipython3",
   "version": "3.11.1"
  },
  "orig_nbformat": 4
 },
 "nbformat": 4,
 "nbformat_minor": 2
}
