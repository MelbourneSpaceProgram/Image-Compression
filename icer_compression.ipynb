{
 "cells": [
  {
   "attachments": {},
   "cell_type": "markdown",
   "metadata": {},
   "source": [
    "# Integer Color Error Rescaling (ICER) Image Compression Algorithm #"
   ]
  },
  {
   "attachments": {},
   "cell_type": "markdown",
   "metadata": {},
   "source": [
    "(ChatGPT Summary)\n",
    "Here's a high-level overview of how the ICER algorithm works:\n",
    "\n",
    "1. **Color Space Conversion:** The algorithm starts by converting the original image from the RGB color space to a different color space, such as YUV or YCbCr. This color space conversion separates the luminance (brightness) and chrominance (color) information of the image.\n",
    "\n",
    "2. **Spatial Decomposition:** The image is divided into non-overlapping blocks or tiles. Each block is typically 8x8 pixels in size.\n",
    "\n",
    "3. **Quantization:** The color values within each block are quantized by reducing the number of bits used to represent them. This step reduces the color precision and introduces compression artifacts.\n",
    "\n",
    "4. **Prediction:** The quantized color values are predicted based on the values of neighboring blocks. This prediction helps to reduce the residual error between the predicted values and the actual values.\n",
    "\n",
    "5. **Entropy Coding:** The predicted color values are encoded using an entropy coding algorithm, such as Huffman coding or arithmetic coding. Entropy coding further compresses the data by assigning shorter codes to more frequently occurring color values."
   ]
  },
  {
   "cell_type": "code",
   "execution_count": 1,
   "metadata": {},
   "outputs": [],
   "source": [
    "import numpy as np\n",
    "import cv2"
   ]
  },
  {
   "cell_type": "code",
   "execution_count": 2,
   "metadata": {},
   "outputs": [],
   "source": [
    "IMAGE = \"test_image3.jpg\""
   ]
  },
  {
   "cell_type": "code",
   "execution_count": 3,
   "metadata": {},
   "outputs": [],
   "source": [
    "def icer_compress(image, quantization_factor):\n",
    "    # Convert the image to YCbCr color space\n",
    "    ycbcr_image = cv2.cvtColor(image, cv2.COLOR_RGB2YCrCb)\n",
    "    \n",
    "    # Split the image into channels\n",
    "    y, cr, cb = cv2.split(ycbcr_image)\n",
    "    \n",
    "    # Apply prediction to the Y channel\n",
    "    predicted_y = np.zeros_like(y)\n",
    "    for i in range(1, y.shape[0]):\n",
    "        for j in range(1, y.shape[1]):\n",
    "            predicted_y[i, j] = y[i-1, j-1] + (y[i-1, j] - y[i-1, j-1]) + (y[i, j-1] - y[i-1, j-1])\n",
    "    \n",
    "\n",
    "    # Apply quantization to each channel\n",
    "    quantized_y = np.round(predicted_y / quantization_factor).astype(np.uint8)\n",
    "    quantized_cr = np.round(cr / quantization_factor).astype(np.uint8)\n",
    "    quantized_cb = np.round(cb / quantization_factor).astype(np.uint8)\n",
    "    \n",
    "    # Merge the quantized channels\n",
    "    quantized_image = cv2.merge((quantized_y, quantized_cr, quantized_cb))\n",
    "    \n",
    "    # Convert the image back to BGR color space\n",
    "    compressed_image = cv2.cvtColor(quantized_image, cv2.COLOR_YCrCb2RGB)\n",
    "    \n",
    "    return compressed_image"
   ]
  },
  {
   "cell_type": "code",
   "execution_count": 4,
   "metadata": {},
   "outputs": [],
   "source": [
    "# Load the original image\n",
    "image = cv2.imread(IMAGE)"
   ]
  },
  {
   "cell_type": "code",
   "execution_count": 5,
   "metadata": {},
   "outputs": [
    {
     "name": "stderr",
     "output_type": "stream",
     "text": [
      "C:\\Users\\ZBOOK 15U\\AppData\\Local\\Temp\\ipykernel_18924\\3766052131.py:12: RuntimeWarning: overflow encountered in scalar subtract\n",
      "  predicted_y[i, j] = y[i-1, j-1] + (y[i-1, j] - y[i-1, j-1]) + (y[i, j-1] - y[i-1, j-1])\n",
      "C:\\Users\\ZBOOK 15U\\AppData\\Local\\Temp\\ipykernel_18924\\3766052131.py:12: RuntimeWarning: overflow encountered in scalar add\n",
      "  predicted_y[i, j] = y[i-1, j-1] + (y[i-1, j] - y[i-1, j-1]) + (y[i, j-1] - y[i-1, j-1])\n"
     ]
    }
   ],
   "source": [
    "# Compress the image using ICER\n",
    "quantization_factor = 2  # Adjust this value to control compression quality - smaller the better quality\n",
    "compressed_image = icer_compress(image, quantization_factor)"
   ]
  },
  {
   "cell_type": "code",
   "execution_count": 6,
   "metadata": {},
   "outputs": [
    {
     "data": {
      "text/plain": [
       "True"
      ]
     },
     "execution_count": 6,
     "metadata": {},
     "output_type": "execute_result"
    }
   ],
   "source": [
    "# Save the compressed image\n",
    "cv2.imwrite('compressed.jpg', compressed_image)"
   ]
  }
 ],
 "metadata": {
  "kernelspec": {
   "display_name": "Python 3",
   "language": "python",
   "name": "python3"
  },
  "language_info": {
   "codemirror_mode": {
    "name": "ipython",
    "version": 3
   },
   "file_extension": ".py",
   "mimetype": "text/x-python",
   "name": "python",
   "nbconvert_exporter": "python",
   "pygments_lexer": "ipython3",
   "version": "3.11.1"
  },
  "orig_nbformat": 4
 },
 "nbformat": 4,
 "nbformat_minor": 2
}
